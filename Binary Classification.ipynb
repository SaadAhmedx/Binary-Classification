{
 "cells": [
  {
   "cell_type": "code",
   "execution_count": 1,
   "metadata": {},
   "outputs": [
    {
     "name": "stderr",
     "output_type": "stream",
     "text": [
      "Using TensorFlow backend.\n"
     ]
    }
   ],
   "source": [
    "from keras import layers\n",
    "from keras import models\n",
    "from keras import optimizers\n",
    "\n",
    "from keras import losses\n",
    "from keras import metrics\n",
    "\n",
    "import numpy as nop"
   ]
  },
  {
   "cell_type": "markdown",
   "metadata": {},
   "source": [
    "model.compile(optimizer = optimizers.RMSprop(lr=0.001), \n",
    "                loss = 'mse', \n",
    "                metrics = ['accuracy'])\n",
    "model.fit(input_tensor, target_tensor, batch_size = 128, epochs = 10)"
   ]
  },
  {
   "cell_type": "code",
   "execution_count": 2,
   "metadata": {},
   "outputs": [],
   "source": [
    "from keras.datasets import imdb"
   ]
  },
  {
   "cell_type": "code",
   "execution_count": 3,
   "metadata": {},
   "outputs": [],
   "source": [
    "(train_data, train_labels), (test_data, test_labels) = imdb.load_data(num_words=10000)"
   ]
  },
  {
   "cell_type": "code",
   "execution_count": 4,
   "metadata": {},
   "outputs": [
    {
     "data": {
      "text/plain": [
       "[1,\n",
       " 14,\n",
       " 22,\n",
       " 16,\n",
       " 43,\n",
       " 530,\n",
       " 973,\n",
       " 1622,\n",
       " 1385,\n",
       " 65,\n",
       " 458,\n",
       " 4468,\n",
       " 66,\n",
       " 3941,\n",
       " 4,\n",
       " 173,\n",
       " 36,\n",
       " 256,\n",
       " 5,\n",
       " 25,\n",
       " 100,\n",
       " 43,\n",
       " 838,\n",
       " 112,\n",
       " 50,\n",
       " 670,\n",
       " 2,\n",
       " 9,\n",
       " 35,\n",
       " 480,\n",
       " 284,\n",
       " 5,\n",
       " 150,\n",
       " 4,\n",
       " 172,\n",
       " 112,\n",
       " 167,\n",
       " 2,\n",
       " 336,\n",
       " 385,\n",
       " 39,\n",
       " 4,\n",
       " 172,\n",
       " 4536,\n",
       " 1111,\n",
       " 17,\n",
       " 546,\n",
       " 38,\n",
       " 13,\n",
       " 447,\n",
       " 4,\n",
       " 192,\n",
       " 50,\n",
       " 16,\n",
       " 6,\n",
       " 147,\n",
       " 2025,\n",
       " 19,\n",
       " 14,\n",
       " 22,\n",
       " 4,\n",
       " 1920,\n",
       " 4613,\n",
       " 469,\n",
       " 4,\n",
       " 22,\n",
       " 71,\n",
       " 87,\n",
       " 12,\n",
       " 16,\n",
       " 43,\n",
       " 530,\n",
       " 38,\n",
       " 76,\n",
       " 15,\n",
       " 13,\n",
       " 1247,\n",
       " 4,\n",
       " 22,\n",
       " 17,\n",
       " 515,\n",
       " 17,\n",
       " 12,\n",
       " 16,\n",
       " 626,\n",
       " 18,\n",
       " 2,\n",
       " 5,\n",
       " 62,\n",
       " 386,\n",
       " 12,\n",
       " 8,\n",
       " 316,\n",
       " 8,\n",
       " 106,\n",
       " 5,\n",
       " 4,\n",
       " 2223,\n",
       " 5244,\n",
       " 16,\n",
       " 480,\n",
       " 66,\n",
       " 3785,\n",
       " 33,\n",
       " 4,\n",
       " 130,\n",
       " 12,\n",
       " 16,\n",
       " 38,\n",
       " 619,\n",
       " 5,\n",
       " 25,\n",
       " 124,\n",
       " 51,\n",
       " 36,\n",
       " 135,\n",
       " 48,\n",
       " 25,\n",
       " 1415,\n",
       " 33,\n",
       " 6,\n",
       " 22,\n",
       " 12,\n",
       " 215,\n",
       " 28,\n",
       " 77,\n",
       " 52,\n",
       " 5,\n",
       " 14,\n",
       " 407,\n",
       " 16,\n",
       " 82,\n",
       " 2,\n",
       " 8,\n",
       " 4,\n",
       " 107,\n",
       " 117,\n",
       " 5952,\n",
       " 15,\n",
       " 256,\n",
       " 4,\n",
       " 2,\n",
       " 7,\n",
       " 3766,\n",
       " 5,\n",
       " 723,\n",
       " 36,\n",
       " 71,\n",
       " 43,\n",
       " 530,\n",
       " 476,\n",
       " 26,\n",
       " 400,\n",
       " 317,\n",
       " 46,\n",
       " 7,\n",
       " 4,\n",
       " 2,\n",
       " 1029,\n",
       " 13,\n",
       " 104,\n",
       " 88,\n",
       " 4,\n",
       " 381,\n",
       " 15,\n",
       " 297,\n",
       " 98,\n",
       " 32,\n",
       " 2071,\n",
       " 56,\n",
       " 26,\n",
       " 141,\n",
       " 6,\n",
       " 194,\n",
       " 7486,\n",
       " 18,\n",
       " 4,\n",
       " 226,\n",
       " 22,\n",
       " 21,\n",
       " 134,\n",
       " 476,\n",
       " 26,\n",
       " 480,\n",
       " 5,\n",
       " 144,\n",
       " 30,\n",
       " 5535,\n",
       " 18,\n",
       " 51,\n",
       " 36,\n",
       " 28,\n",
       " 224,\n",
       " 92,\n",
       " 25,\n",
       " 104,\n",
       " 4,\n",
       " 226,\n",
       " 65,\n",
       " 16,\n",
       " 38,\n",
       " 1334,\n",
       " 88,\n",
       " 12,\n",
       " 16,\n",
       " 283,\n",
       " 5,\n",
       " 16,\n",
       " 4472,\n",
       " 113,\n",
       " 103,\n",
       " 32,\n",
       " 15,\n",
       " 16,\n",
       " 5345,\n",
       " 19,\n",
       " 178,\n",
       " 32]"
      ]
     },
     "execution_count": 4,
     "metadata": {},
     "output_type": "execute_result"
    }
   ],
   "source": [
    "train_data[0]"
   ]
  },
  {
   "cell_type": "code",
   "execution_count": 12,
   "metadata": {},
   "outputs": [
    {
     "data": {
      "text/plain": [
       "1"
      ]
     },
     "execution_count": 12,
     "metadata": {},
     "output_type": "execute_result"
    }
   ],
   "source": [
    "train_labels[0]"
   ]
  },
  {
   "cell_type": "code",
   "execution_count": 13,
   "metadata": {},
   "outputs": [
    {
     "data": {
      "text/plain": [
       "9999"
      ]
     },
     "execution_count": 13,
     "metadata": {},
     "output_type": "execute_result"
    }
   ],
   "source": [
    "max([max(sequence) for sequence in train_data])"
   ]
  },
  {
   "cell_type": "code",
   "execution_count": 14,
   "metadata": {},
   "outputs": [],
   "source": [
    "word_index = imdb.get_word_index()\n",
    "reverse_word_index = dict([(value, key) for (key, value) in word_index.items()])\n",
    "decoded_review = ''.join([reverse_word_index.get(i-3, '?') for i in train_data[0]])"
   ]
  },
  {
   "cell_type": "code",
   "execution_count": 15,
   "metadata": {},
   "outputs": [],
   "source": [
    "def vectorize_sequences(sequences, dimension=10000):\n",
    "    results = nop.zeros((len(sequences), dimension))\n",
    "    for i, sequence in enumerate(sequences):\n",
    "        results[i, sequence] = 1.\n",
    "    return results"
   ]
  },
  {
   "cell_type": "code",
   "execution_count": 16,
   "metadata": {},
   "outputs": [],
   "source": [
    "x_train = vectorize_sequences(train_data)\n",
    "x_test = vectorize_sequences(test_data)"
   ]
  },
  {
   "cell_type": "code",
   "execution_count": 17,
   "metadata": {},
   "outputs": [
    {
     "data": {
      "text/plain": [
       "array([0., 1., 1., ..., 0., 0., 0.])"
      ]
     },
     "execution_count": 17,
     "metadata": {},
     "output_type": "execute_result"
    }
   ],
   "source": [
    "x_train[0]"
   ]
  },
  {
   "cell_type": "code",
   "execution_count": 19,
   "metadata": {},
   "outputs": [],
   "source": [
    "y_train = nop.asarray(train_labels).astype('float32')\n",
    "y_test = nop.asarray(test_labels).astype('float32')"
   ]
  },
  {
   "cell_type": "code",
   "execution_count": 20,
   "metadata": {},
   "outputs": [],
   "source": [
    "model = models.Sequential()\n",
    "model.add(layers.Dense(300, activation='relu', input_shape=(10000,)))\n",
    "model.add(layers.Dense(150, activation='relu'))\n",
    "model.add(layers.Dense(200, activation='relu'))\n",
    "model.add(layers.Dense(1, activation='sigmoid'))"
   ]
  },
  {
   "cell_type": "markdown",
   "metadata": {},
   "source": [
    "model.compile()"
   ]
  },
  {
   "cell_type": "code",
   "execution_count": 21,
   "metadata": {},
   "outputs": [],
   "source": [
    "model.compile(optimizer = 'rmsprop', \n",
    "              loss = 'binary_crossentropy', \n",
    "              metrices = ['accuracy'])"
   ]
  },
  {
   "cell_type": "code",
   "execution_count": 22,
   "metadata": {},
   "outputs": [],
   "source": [
    "model.compile(optimizer = optimizers.RMSprop(lr=0.001), \n",
    "              loss = 'binary_crossentropy', \n",
    "              metrices = ['accuracy'])"
   ]
  },
  {
   "cell_type": "code",
   "execution_count": 23,
   "metadata": {},
   "outputs": [],
   "source": [
    "model.compile(optimizer = optimizers.RMSprop(lr=0.001), \n",
    "              loss = losses.binary_crossentropy, \n",
    "              metrices = [metrics.binary_accuracy])"
   ]
  },
  {
   "cell_type": "code",
   "execution_count": 24,
   "metadata": {},
   "outputs": [],
   "source": [
    "x_val = x_train[:10000]\n",
    "partial_x_train = x_train[10000:]\n",
    "\n",
    "y_val = y_train[:10000]\n",
    "partial_y_train = y_train[10000:]"
   ]
  },
  {
   "cell_type": "code",
   "execution_count": 25,
   "metadata": {},
   "outputs": [
    {
     "name": "stdout",
     "output_type": "stream",
     "text": [
      "Train on 15000 samples, validate on 10000 samples\n",
      "Epoch 1/20\n",
      "15000/15000 [==============================] - 4s 299us/step - loss: 0.5212 - acc: 0.7684 - val_loss: 0.2926 - val_acc: 0.8848\n",
      "Epoch 2/20\n",
      "15000/15000 [==============================] - 2s 128us/step - loss: 0.2600 - acc: 0.8977 - val_loss: 0.2649 - val_acc: 0.8950\n",
      "Epoch 3/20\n",
      "15000/15000 [==============================] - 2s 130us/step - loss: 0.1587 - acc: 0.9385 - val_loss: 0.3897 - val_acc: 0.8566\n",
      "Epoch 4/20\n",
      "15000/15000 [==============================] - 2s 130us/step - loss: 0.0906 - acc: 0.9698 - val_loss: 0.4366 - val_acc: 0.8695\n",
      "Epoch 5/20\n",
      "15000/15000 [==============================] - 2s 129us/step - loss: 0.1075 - acc: 0.9763 - val_loss: 0.3399 - val_acc: 0.8892\n",
      "Epoch 6/20\n",
      "15000/15000 [==============================] - 2s 131us/step - loss: 0.0073 - acc: 0.9988 - val_loss: 0.5442 - val_acc: 0.8869\n",
      "Epoch 7/20\n",
      "15000/15000 [==============================] - 2s 127us/step - loss: 6.4648e-04 - acc: 1.0000 - val_loss: 0.7241 - val_acc: 0.8870\n",
      "Epoch 8/20\n",
      "15000/15000 [==============================] - 2s 127us/step - loss: 6.1512e-05 - acc: 1.0000 - val_loss: 0.8380 - val_acc: 0.8870\n",
      "Epoch 9/20\n",
      "15000/15000 [==============================] - 2s 127us/step - loss: 9.7860e-06 - acc: 1.0000 - val_loss: 0.9243 - val_acc: 0.8840\n",
      "Epoch 10/20\n",
      "15000/15000 [==============================] - 2s 126us/step - loss: 1.8836e-06 - acc: 1.0000 - val_loss: 0.9798 - val_acc: 0.8858\n",
      "Epoch 11/20\n",
      "15000/15000 [==============================] - 2s 126us/step - loss: 5.9592e-07 - acc: 1.0000 - val_loss: 1.0327 - val_acc: 0.8839\n",
      "Epoch 12/20\n",
      "15000/15000 [==============================] - 2s 126us/step - loss: 2.2516e-07 - acc: 1.0000 - val_loss: 1.0674 - val_acc: 0.8870\n",
      "Epoch 13/20\n",
      "15000/15000 [==============================] - 2s 125us/step - loss: 1.4319e-07 - acc: 1.0000 - val_loss: 1.0871 - val_acc: 0.8852\n",
      "Epoch 14/20\n",
      "15000/15000 [==============================] - 2s 138us/step - loss: 1.2363e-07 - acc: 1.0000 - val_loss: 1.1043 - val_acc: 0.8853\n",
      "Epoch 15/20\n",
      "15000/15000 [==============================] - 2s 130us/step - loss: 1.1630e-07 - acc: 1.0000 - val_loss: 1.1162 - val_acc: 0.8869\n",
      "Epoch 16/20\n",
      "15000/15000 [==============================] - 2s 127us/step - loss: 1.1337e-07 - acc: 1.0000 - val_loss: 1.1233 - val_acc: 0.8868\n",
      "Epoch 17/20\n",
      "15000/15000 [==============================] - 2s 126us/step - loss: 1.1209e-07 - acc: 1.0000 - val_loss: 1.1290 - val_acc: 0.8868\n",
      "Epoch 18/20\n",
      "15000/15000 [==============================] - 2s 128us/step - loss: 1.1140e-07 - acc: 1.0000 - val_loss: 1.1335 - val_acc: 0.8870\n",
      "Epoch 19/20\n",
      "15000/15000 [==============================] - 2s 128us/step - loss: 1.1096e-07 - acc: 1.0000 - val_loss: 1.1363 - val_acc: 0.8867\n",
      "Epoch 20/20\n",
      "15000/15000 [==============================] - 2s 127us/step - loss: 1.1066e-07 - acc: 1.0000 - val_loss: 1.1392 - val_acc: 0.8870\n"
     ]
    }
   ],
   "source": [
    "model.compile(optimizer = 'rmsprop', \n",
    "              loss = 'binary_crossentropy', \n",
    "              metrics = ['acc'])\n",
    "\n",
    "history = model.fit(partial_x_train,\n",
    "                   partial_y_train,\n",
    "                   epochs = 20,\n",
    "                   batch_size = 512,\n",
    "                   validation_data = (x_val, y_val))"
   ]
  },
  {
   "cell_type": "code",
   "execution_count": 26,
   "metadata": {},
   "outputs": [
    {
     "name": "stdout",
     "output_type": "stream",
     "text": [
      "25000/25000 [==============================] - 3s 106us/step\n",
      "-- Lose: 1.252235181805566\n",
      "-- Accuracy: 0.873\n"
     ]
    }
   ],
   "source": [
    "val_loss, val_acc = model.evaluate(x_test, y_test) #let's test out modal :D \n",
    "print(\"-- Lose: {}\\n-- Accuracy: {}\".format(val_loss, val_acc)) # not bad :D "
   ]
  },
  {
   "cell_type": "code",
   "execution_count": null,
   "metadata": {},
   "outputs": [],
   "source": []
  }
 ],
 "metadata": {
  "kernelspec": {
   "display_name": "Python 3",
   "language": "python",
   "name": "python3"
  },
  "language_info": {
   "codemirror_mode": {
    "name": "ipython",
    "version": 3
   },
   "file_extension": ".py",
   "mimetype": "text/x-python",
   "name": "python",
   "nbconvert_exporter": "python",
   "pygments_lexer": "ipython3",
   "version": "3.6.8"
  }
 },
 "nbformat": 4,
 "nbformat_minor": 2
}
